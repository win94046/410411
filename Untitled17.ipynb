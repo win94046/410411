{
 "cells": [
  {
   "cell_type": "code",
   "execution_count": 32,
   "metadata": {},
   "outputs": [],
   "source": [
    "import pandas as pd\n",
    "import numpy as np\n",
    "import seaborn as sns\n",
    "import matplotlib.pyplot as plt\n",
    "%matplotlib inline"
   ]
  },
  {
   "cell_type": "code",
   "execution_count": 33,
   "metadata": {},
   "outputs": [],
   "source": [
    "# Warnings\n",
    "import warnings\n",
    "warnings.filterwarnings('ignore')"
   ]
  },
  {
   "cell_type": "code",
   "execution_count": 34,
   "metadata": {},
   "outputs": [],
   "source": [
    "# Style\n",
    "sns.set(style='darkgrid')\n",
    "plt.rcParams[\"patch.force_edgecolor\"] = True\n"
   ]
  },
  {
   "cell_type": "code",
   "execution_count": 35,
   "metadata": {},
   "outputs": [
    {
     "name": "stdout",
     "output_type": "stream",
     "text": [
      "['BreadBasket_DMS_1_.csv']\n"
     ]
    }
   ],
   "source": [
    "import os\n",
    "print(os.listdir(\"C:/Users/user/Desktop/BreadBasket_DMS_1_\"))\n"
   ]
  },
  {
   "cell_type": "code",
   "execution_count": 36,
   "metadata": {},
   "outputs": [],
   "source": [
    "df = pd.read_csv(\"C:/Users/user/Desktop/BreadBasket_DMS_1_/BreadBasket_DMS_1_.csv\")"
   ]
  },
  {
   "cell_type": "code",
   "execution_count": 37,
   "metadata": {},
   "outputs": [
    {
     "name": "stdout",
     "output_type": "stream",
     "text": [
      "Dataset Information: \n",
      "\n",
      "<class 'pandas.core.frame.DataFrame'>\n",
      "RangeIndex: 21293 entries, 0 to 21292\n",
      "Data columns (total 4 columns):\n",
      "Date           21293 non-null object\n",
      "Time           21293 non-null object\n",
      "Transaction    21293 non-null int64\n",
      "Item           21293 non-null object\n",
      "dtypes: int64(1), object(3)\n",
      "memory usage: 665.5+ KB\n",
      "None\n"
     ]
    }
   ],
   "source": [
    "print('Dataset Information: \\n')\n",
    "print(df.info())"
   ]
  },
  {
   "cell_type": "code",
   "execution_count": 38,
   "metadata": {
    "scrolled": false
   },
   "outputs": [
    {
     "name": "stdout",
     "output_type": "stream",
     "text": [
      "Unique Items:  95\n",
      "\n",
      " ['Bread' 'Scandinavian' 'Hot chocolate' 'Jam' 'Cookies' 'Muffin' 'Coffee'\n",
      " 'Pastry' 'Medialuna' 'Tea' 'NONE' 'Tartine' 'Basket' 'Mineral water'\n",
      " 'Farm House' 'Fudge' 'Juice' \"Ella's Kitchen Pouches\" 'Victorian Sponge'\n",
      " 'Frittata' 'Hearty & Seasonal' 'Soup' 'Pick and Mix Bowls' 'Smoothies'\n",
      " 'Cake' 'Mighty Protein' 'Chicken sand' 'Coke' 'My-5 Fruit Shoot'\n",
      " 'Focaccia' 'Sandwich' 'Alfajores' 'Eggs' 'Brownie' 'Dulce de Leche'\n",
      " 'Honey' 'The BART' 'Granola' 'Fairy Doors' 'Empanadas' 'Keeping It Local'\n",
      " 'Art Tray' 'Bowl Nic Pitt' 'Bread Pudding' 'Adjustment' 'Truffles'\n",
      " 'Chimichurri Oil' 'Bacon' 'Spread' 'Kids biscuit' 'Siblings'\n",
      " 'Caramel bites' 'Jammie Dodgers' 'Tiffin' 'Olum & polenta' 'Polenta'\n",
      " 'The Nomad' 'Hack the stack' 'Bakewell' 'Lemon and coconut' 'Toast'\n",
      " 'Scone' 'Crepes' 'Vegan mincepie' 'Bare Popcorn' 'Muesli' 'Crisps'\n",
      " 'Pintxos' 'Gingerbread syrup' 'Panatone' 'Brioche and salami'\n",
      " 'Afternoon with the baker' 'Salad' 'Chicken Stew' 'Spanish Brunch'\n",
      " 'Raspberry shortbread sandwich' 'Extra Salami or Feta' 'Duck egg'\n",
      " 'Baguette' \"Valentine's card\" 'Tshirt' 'Vegan Feast' 'Postcard'\n",
      " 'Nomad bag' 'Chocolates' 'Coffee granules ' 'Drinking chocolate spoons '\n",
      " 'Christmas common' 'Argentina Night' 'Half slice Monster ' 'Gift voucher'\n",
      " 'Cherry me Dried fruit' 'Mortimer' 'Raw bars' 'Tacos/Fajita']\n"
     ]
    }
   ],
   "source": [
    "print('Unique Items: ', df['Item'].nunique())\n",
    "print( '\\n', df['Item'].unique()) #列出每個項目"
   ]
  },
  {
   "cell_type": "code",
   "execution_count": 39,
   "metadata": {},
   "outputs": [
    {
     "name": "stdout",
     "output_type": "stream",
     "text": [
      "Item           0\n",
      "Transaction    0\n",
      "Time           0\n",
      "Date           0\n",
      "dtype: int64\n"
     ]
    }
   ],
   "source": [
    "print(df.isnull().sum().sort_values(ascending=False))"
   ]
  },
  {
   "cell_type": "code",
   "execution_count": 40,
   "metadata": {
    "scrolled": true
   },
   "outputs": [
    {
     "name": "stdout",
     "output_type": "stream",
     "text": [
      "First Ten Rows of the DataFrame: \n",
      "\n",
      "         Date      Time  Transaction           Item\n",
      "0  2016/10/30  09:58:11            1          Bread\n",
      "1  2016/10/30  10:05:34            2   Scandinavian\n",
      "2  2016/10/30  10:05:34            2   Scandinavian\n",
      "3  2016/10/30  10:07:57            3  Hot chocolate\n",
      "4  2016/10/30  10:07:57            3            Jam\n",
      "5  2016/10/30  10:07:57            3        Cookies\n",
      "6  2016/10/30  10:08:41            4         Muffin\n",
      "7  2016/10/30  10:13:03            5         Coffee\n",
      "8  2016/10/30  10:13:03            5         Pastry\n",
      "9  2016/10/30  10:13:03            5          Bread\n"
     ]
    }
   ],
   "source": [
    "print('First Ten Rows of the DataFrame: \\n')\n",
    "print(df.head(10))"
   ]
  },
  {
   "cell_type": "code",
   "execution_count": 41,
   "metadata": {},
   "outputs": [
    {
     "name": "stdout",
     "output_type": "stream",
     "text": [
      "Unique Items:  95\n",
      "\n",
      " ['Bread' 'Scandinavian' 'Hot chocolate' 'Jam' 'Cookies' 'Muffin' 'Coffee'\n",
      " 'Pastry' 'Medialuna' 'Tea' 'NONE' 'Tartine' 'Basket' 'Mineral water'\n",
      " 'Farm House' 'Fudge' 'Juice' \"Ella's Kitchen Pouches\" 'Victorian Sponge'\n",
      " 'Frittata' 'Hearty & Seasonal' 'Soup' 'Pick and Mix Bowls' 'Smoothies'\n",
      " 'Cake' 'Mighty Protein' 'Chicken sand' 'Coke' 'My-5 Fruit Shoot'\n",
      " 'Focaccia' 'Sandwich' 'Alfajores' 'Eggs' 'Brownie' 'Dulce de Leche'\n",
      " 'Honey' 'The BART' 'Granola' 'Fairy Doors' 'Empanadas' 'Keeping It Local'\n",
      " 'Art Tray' 'Bowl Nic Pitt' 'Bread Pudding' 'Adjustment' 'Truffles'\n",
      " 'Chimichurri Oil' 'Bacon' 'Spread' 'Kids biscuit' 'Siblings'\n",
      " 'Caramel bites' 'Jammie Dodgers' 'Tiffin' 'Olum & polenta' 'Polenta'\n",
      " 'The Nomad' 'Hack the stack' 'Bakewell' 'Lemon and coconut' 'Toast'\n",
      " 'Scone' 'Crepes' 'Vegan mincepie' 'Bare Popcorn' 'Muesli' 'Crisps'\n",
      " 'Pintxos' 'Gingerbread syrup' 'Panatone' 'Brioche and salami'\n",
      " 'Afternoon with the baker' 'Salad' 'Chicken Stew' 'Spanish Brunch'\n",
      " 'Raspberry shortbread sandwich' 'Extra Salami or Feta' 'Duck egg'\n",
      " 'Baguette' \"Valentine's card\" 'Tshirt' 'Vegan Feast' 'Postcard'\n",
      " 'Nomad bag' 'Chocolates' 'Coffee granules ' 'Drinking chocolate spoons '\n",
      " 'Christmas common' 'Argentina Night' 'Half slice Monster ' 'Gift voucher'\n",
      " 'Cherry me Dried fruit' 'Mortimer' 'Raw bars' 'Tacos/Fajita']\n"
     ]
    }
   ],
   "source": [
    "print('Unique Items: ', df['Item'].nunique())\n",
    "print( '\\n', df['Item'].unique())"
   ]
  },
  {
   "cell_type": "code",
   "execution_count": 42,
   "metadata": {},
   "outputs": [
    {
     "name": "stdout",
     "output_type": "stream",
     "text": [
      "Item           0\n",
      "Transaction    0\n",
      "Time           0\n",
      "Date           0\n",
      "dtype: int64\n"
     ]
    }
   ],
   "source": [
    "print(df.isnull().sum().sort_values(ascending=False)) #看數據有沒有遺漏直"
   ]
  },
  {
   "cell_type": "code",
   "execution_count": 43,
   "metadata": {},
   "outputs": [
    {
     "name": "stdout",
     "output_type": "stream",
     "text": [
      "             Date      Time  Transaction  Item\n",
      "26     2016/10/30  10:27:21           11  NONE\n",
      "38     2016/10/30  10:34:36           15  NONE\n",
      "39     2016/10/30  10:34:36           15  NONE\n",
      "66     2016/10/30  11:05:30           29  NONE\n",
      "80     2016/10/30  11:37:10           37  NONE\n",
      "85     2016/10/30  11:55:51           40  NONE\n",
      "126    2016/10/30  13:02:04           59  NONE\n",
      "140    2016/10/30  13:37:25           65  NONE\n",
      "149    2016/10/30  13:46:48           67  NONE\n",
      "167    2016/10/30  14:32:26           75  NONE\n",
      "183    2016/10/31  08:47:05           82  NONE\n",
      "201    2016/10/31  09:22:48           91  NONE\n",
      "226    2016/10/31  10:07:40          103  NONE\n",
      "235    2016/10/31  10:21:29          105  NONE\n",
      "272    2016/10/31  11:42:05          123  NONE\n",
      "282    2016/10/31  11:55:00          128  NONE\n",
      "398     2016/11/1  09:26:03          184  NONE\n",
      "413     2016/11/1  10:56:08          192  NONE\n",
      "419     2016/11/1  11:06:09          195  NONE\n",
      "431     2016/11/1  11:22:36          201  NONE\n",
      "547     2016/11/2  08:07:05          257  NONE\n",
      "560     2016/11/2  09:05:25          266  NONE\n",
      "577     2016/11/2  09:52:58          274  NONE\n",
      "587     2016/11/2  10:15:48          279  NONE\n",
      "628     2016/11/2  12:11:56          298  NONE\n",
      "718     2016/11/3  08:15:21          346  NONE\n",
      "726     2016/11/3  08:49:23          348  NONE\n",
      "788     2016/11/3  11:51:52          380  NONE\n",
      "808     2016/11/3  12:16:15          387  NONE\n",
      "810     2016/11/3  12:23:47          388  NONE\n",
      "...           ...       ...          ...   ...\n",
      "20232    2017/4/1  13:36:26         9211  NONE\n",
      "20285    2017/4/2  09:49:32         9232  NONE\n",
      "20289    2017/4/2  09:51:23         9234  NONE\n",
      "20316    2017/4/2  10:50:11         9245  NONE\n",
      "20332    2017/4/2  12:00:43         9254  NONE\n",
      "20352    2017/4/2  13:19:35         9261  NONE\n",
      "20376    2017/4/2  15:01:07         9270  NONE\n",
      "20391    2017/4/2  15:22:05         9274  NONE\n",
      "20412    2017/4/3  10:09:47         9286  NONE\n",
      "20429    2017/4/3  10:45:41         9293  NONE\n",
      "20460    2017/4/3  13:24:13         9309  NONE\n",
      "20526    2017/4/4  07:58:54         9339  NONE\n",
      "20538    2017/4/4  09:04:01         9346  NONE\n",
      "20573    2017/4/4  12:18:12         9366  NONE\n",
      "20574    2017/4/4  12:18:56         9367  NONE\n",
      "20577    2017/4/4  12:19:48         9368  NONE\n",
      "20678    2017/4/5  11:02:01         9406  NONE\n",
      "20686    2017/4/5  11:05:00         9407  NONE\n",
      "20799    2017/4/6  09:28:32         9457  NONE\n",
      "20917    2017/4/7  08:47:29         9506  NONE\n",
      "20919    2017/4/7  08:57:19         9507  NONE\n",
      "20964    2017/4/7  13:06:01         9529  NONE\n",
      "21010    2017/4/7  17:30:07         9550  NONE\n",
      "21077    2017/4/8  10:44:44         9579  NONE\n",
      "21080    2017/4/8  10:48:43         9580  NONE\n",
      "21108    2017/4/8  11:54:22         9590  NONE\n",
      "21122    2017/4/8  12:58:25         9599  NONE\n",
      "21254    2017/4/9  12:01:07         9666  NONE\n",
      "21255    2017/4/9  12:04:13         9667  NONE\n",
      "21266    2017/4/9  12:31:28         9672  NONE\n",
      "\n",
      "[786 rows x 4 columns]\n"
     ]
    }
   ],
   "source": [
    "print(df[df['Item']=='NONE']) #找出數據集的none直"
   ]
  },
  {
   "cell_type": "code",
   "execution_count": 44,
   "metadata": {},
   "outputs": [],
   "source": [
    "df.drop(df[df['Item']=='NONE'].index, inplace=True) #消除NONE的數據\n"
   ]
  },
  {
   "cell_type": "code",
   "execution_count": 45,
   "metadata": {
    "scrolled": true
   },
   "outputs": [
    {
     "name": "stdout",
     "output_type": "stream",
     "text": [
      "<class 'pandas.core.frame.DataFrame'>\n",
      "Int64Index: 20507 entries, 0 to 21292\n",
      "Data columns (total 4 columns):\n",
      "Date           20507 non-null object\n",
      "Time           20507 non-null object\n",
      "Transaction    20507 non-null int64\n",
      "Item           20507 non-null object\n",
      "dtypes: int64(1), object(3)\n",
      "memory usage: 801.1+ KB\n",
      "None\n"
     ]
    }
   ],
   "source": [
    "print(df.info())"
   ]
  },
  {
   "cell_type": "code",
   "execution_count": 48,
   "metadata": {},
   "outputs": [
    {
     "name": "stdout",
     "output_type": "stream",
     "text": [
      "Most Sold Items: \n",
      "\n",
      "Coffee           5471\n",
      "Bread            3325\n",
      "Tea              1435\n",
      "Cake             1025\n",
      "Pastry            856\n",
      "Sandwich          771\n",
      "Medialuna         616\n",
      "Hot chocolate     590\n",
      "Cookies           540\n",
      "Brownie           379\n",
      "Farm House        374\n",
      "Muffin            370\n",
      "Alfajores         369\n",
      "Juice             369\n",
      "Soup              342\n",
      "Name: Item, dtype: int64\n"
     ]
    }
   ],
   "source": [
    "#麵包店裡賣得最多的東西\n",
    "most_sold = df['Item'].value_counts().head(15)\n",
    "\n",
    "print('Most Sold Items: \\n')\n",
    "print(most_sold)"
   ]
  },
  {
   "cell_type": "code",
   "execution_count": null,
   "metadata": {},
   "outputs": [],
   "source": []
  }
 ],
 "metadata": {
  "kernelspec": {
   "display_name": "Python 3",
   "language": "python",
   "name": "python3"
  },
  "language_info": {
   "codemirror_mode": {
    "name": "ipython",
    "version": 3
   },
   "file_extension": ".py",
   "mimetype": "text/x-python",
   "name": "python",
   "nbconvert_exporter": "python",
   "pygments_lexer": "ipython3",
   "version": "3.6.5"
  }
 },
 "nbformat": 4,
 "nbformat_minor": 2
}
